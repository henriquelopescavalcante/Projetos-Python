{
 "cells": [
  {
   "cell_type": "code",
   "execution_count": null,
   "metadata": {},
   "outputs": [],
   "source": [
    "import requests\n",
    "\n",
    "# Instanciando a URL e o User-Agent\n",
    "url_marcas = \"https://parallelum.com.br/fipe/api/v1/carros/marcas\"\n",
    "headers = {\n",
    "    \"User-Agent\": \"MyApp/1.0\"\n",
    "}\n",
    "\n",
    "# Obtendo informações da API através do método GET\n",
    "response = requests.get(url_marcas, headers=headers)\n",
    "\n",
    "# Salvando a resposta da API\n",
    "marcas = response.json()\n",
    "\n"
   ]
  },
  {
   "cell_type": "code",
   "execution_count": null,
   "metadata": {},
   "outputs": [],
   "source": [
    "# Obtendo o tipo da nossa variável\n",
    "type(marcas)"
   ]
  },
  {
   "cell_type": "code",
   "execution_count": null,
   "metadata": {},
   "outputs": [],
   "source": [
    "# Iterando sobre a lista que contém o nome da marca \n",
    "# e seu respectivo código\n",
    "for marca in marcas:\n",
    "    print(\"Marca:\", marca[\"nome\"], \"Codigo:\", marca[\"codigo\"])"
   ]
  },
  {
   "cell_type": "code",
   "execution_count": null,
   "metadata": {},
   "outputs": [],
   "source": [
    "# Instanciando a URL para obter os modelos através do ID da marca\n",
    "# selecionada\n",
    "url_carros = \"https://parallelum.com.br/fipe/api/v1/carros/marcas/6/modelos\"\n",
    "\n",
    "# Obtendo informações da API através do método GET\n",
    "response = requests.get(url_carros, headers=headers)\n",
    "\n",
    "# Salvando a resposta da API\n",
    "carros = response.json()"
   ]
  },
  {
   "cell_type": "code",
   "execution_count": null,
   "metadata": {},
   "outputs": [],
   "source": [
    "# Obtendo o tipo da nossa variável\n",
    "type(carros)"
   ]
  },
  {
   "cell_type": "code",
   "execution_count": null,
   "metadata": {},
   "outputs": [],
   "source": [
    "# Por se tratar de um Dict, iremos obter as Chaves desse dict\n",
    "# para analisarmos qual temos interesse\n",
    "carros.keys()"
   ]
  },
  {
   "cell_type": "code",
   "execution_count": null,
   "metadata": {},
   "outputs": [],
   "source": [
    "# Analisando nosso Dict para a Chave 'modelos'\n",
    "carros['modelos']"
   ]
  },
  {
   "cell_type": "code",
   "execution_count": null,
   "metadata": {},
   "outputs": [],
   "source": [
    "# Instanciando nossa classe para Iterar em nossa lista de Dicts\n",
    "\n",
    "class FipeIterator:\n",
    "    \"\"\"\n",
    "    Classe que itera sobre uma lista de dicionários de modelos de carros obtidos de uma API.\n",
    "    \n",
    "    Atributos:\n",
    "        modelos (list): Lista de dicionários com informações sobre modelos de carros.\n",
    "        current (int): Índice atual da lista de modelos.\n",
    "        end (int): Tamanho da lista de modelos.\n",
    "    \n",
    "    Métodos:\n",
    "        __iter__: Implementação padrão do método mágico __iter__.\n",
    "        __next__: Implementação padrão do método mágico __next__.\n",
    "    \"\"\"\n",
    "    def __init__(self, id_value: str):\n",
    "        \"\"\"\n",
    "        Construtor da classe.\n",
    "        \n",
    "        Argumentos:\n",
    "            id_value (str): Valor do ID da marca de carros a ser usado na URL da API.\n",
    "        \"\"\"\n",
    "        \n",
    "        # Desenvolvendo nossa URL com o ID passado\n",
    "        url = \"https://parallelum.com.br/fipe/api/v1/carros/marcas/{}/modelos\"\n",
    "        url = url.format(id_value)\n",
    "        \n",
    "        # Obtendo informações da API através do método GET\n",
    "        response = requests.get(url_carros, headers=headers)\n",
    "\n",
    "        # Salvando a resposta da API\n",
    "        carros = response.json()\n",
    "        \n",
    "        # Obtendo valores para o Dict `modelos`\n",
    "        self.modelos = carros['modelos']\n",
    "        \n",
    "        # Instanciando nosso estado atual e final\n",
    "        self.current = 0\n",
    "        self.end = len(self.modelos)\n",
    "\n",
    "    def __iter__(self):\n",
    "        return self\n",
    "\n",
    "    def __next__(self):\n",
    "        if self.current >= self.end:\n",
    "            raise StopIteration\n",
    "        result = self.modelos[self.current]\n",
    "        self.current += 1\n",
    "        return result"
   ]
  },
  {
   "cell_type": "code",
   "execution_count": null,
   "metadata": {},
   "outputs": [],
   "source": [
    "# Obtendo nosso iterador\n",
    "iterator = FipeIterator(\"6\")"
   ]
  },
  {
   "cell_type": "code",
   "execution_count": null,
   "metadata": {},
   "outputs": [],
   "source": [
    "# Iterando sobre nosso iterador\n",
    "for modelo in iterator:\n",
    "    print(modelo)"
   ]
  },
  {
   "cell_type": "code",
   "execution_count": null,
   "metadata": {},
   "outputs": [],
   "source": [
    "# Desenvolvendo um Gerador a partir o Iterador acima\n",
    "def fipe_generator(modelos):\n",
    "    for modelo in modelos:\n",
    "        yield modelo"
   ]
  },
  {
   "cell_type": "code",
   "execution_count": null,
   "metadata": {},
   "outputs": [],
   "source": [
    "for modelo in fipe_generator(carros['modelos']):\n",
    "    print(modelo)"
   ]
  },
  {
   "cell_type": "code",
   "execution_count": null,
   "metadata": {},
   "outputs": [],
   "source": []
  }
 ],
 "metadata": {
  "language_info": {
   "name": "python"
  },
  "orig_nbformat": 4
 },
 "nbformat": 4,
 "nbformat_minor": 2
}
